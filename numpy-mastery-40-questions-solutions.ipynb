{
 "cells": [
  {
   "cell_type": "markdown",
   "id": "6c25765e",
   "metadata": {
    "papermill": {
     "duration": 0.013706,
     "end_time": "2025-03-01T12:50:47.618579",
     "exception": false,
     "start_time": "2025-03-01T12:50:47.604873",
     "status": "completed"
    },
    "tags": []
   },
   "source": [
    "<a id=\"A\"></a>\n",
    "# <div style=\"text-align:center; border-radius:15px 50px; padding:20px; color:white; margin:0; font-size:150%; font-family:Pacifico; background-color:red; overflow:hidden\"><b> Numpy Practice Questions </b></div>\n",
    "\n"
   ]
  },
  {
   "cell_type": "markdown",
   "id": "a2327110",
   "metadata": {
    "papermill": {
     "duration": 0.012957,
     "end_time": "2025-03-01T12:50:47.644774",
     "exception": false,
     "start_time": "2025-03-01T12:50:47.631817",
     "status": "completed"
    },
    "tags": []
   },
   "source": [
    "<a id=\"2\"></a>\n",
    "# <div style=\"text-align:center; border-radius:15px 30px; padding:10px; color:white; margin:0; font-size:100%; font-family:Pacifico; background-color:black; overflow:hidden\"><b> 🌟 About Author 🌟 </b></div>\n",
    "\n",
    "<div style=\"background-color: white; border: 9px solid black; border-radius: 19px; box-shadow: 0 10px 20px rgba(0, 0, 0, 0.1); max-width: 600px; margin: 20px auto; padding: 20px; text-align: center; font-family: 'Segoe UI', Tahoma, Geneva, Verdana, sans-serif;\">\n",
    "    <h2 style=\"color: black; font-weight: bold; margin-bottom: 10px;\">WAQAR ALI</h2>\n",
    "    <p style=\"font-size: 16px; line-height: 1.6; color: black; margin-bottom: 20px;\">\n",
    "        I'm a passionate Data Scientist and Analyst, dedicated to transforming raw data into actionable insights through captivating visualizations. Let's dive into the fascinating world of data and uncover the stories hidden within! 📊🔍✨\n",
    "    </p>\n",
    "</div>\n"
   ]
  },
  {
   "cell_type": "markdown",
   "id": "4719a691",
   "metadata": {
    "papermill": {
     "duration": 0.013643,
     "end_time": "2025-03-01T12:50:47.671747",
     "exception": false,
     "start_time": "2025-03-01T12:50:47.658104",
     "status": "completed"
    },
    "tags": []
   },
   "source": [
    "<a id=\"A\"></a>\n",
    "# <div style=\"text-align:center; border-radius:15px 30px; padding:10px; color:white; margin:0; font-size:100%; font-family:Pacifico; background-color:red; overflow:hidden\"><b> Basic Problems </b></div>\n",
    "\n"
   ]
  },
  {
   "cell_type": "markdown",
   "id": "5045e0a2",
   "metadata": {
    "papermill": {
     "duration": 0.012691,
     "end_time": "2025-03-01T12:50:47.697842",
     "exception": false,
     "start_time": "2025-03-01T12:50:47.685151",
     "status": "completed"
    },
    "tags": []
   },
   "source": [
    "<a id=\"A\"></a>\n",
    "# <div style=\"text-align:center; border-radius:5px 10px; padding:5px; color:white; margin:0; font-size:70%; font-family:Pacifico; background-color:black; overflow:hidden\"><b> 1. Create a 1D array with numbers from 1 to 10. </b></div>\n",
    "\n"
   ]
  },
  {
   "cell_type": "code",
   "execution_count": 1,
   "id": "127bf9a1",
   "metadata": {
    "execution": {
     "iopub.execute_input": "2025-03-01T12:50:47.726624Z",
     "iopub.status.busy": "2025-03-01T12:50:47.726160Z",
     "iopub.status.idle": "2025-03-01T12:50:47.736925Z",
     "shell.execute_reply": "2025-03-01T12:50:47.735548Z"
    },
    "papermill": {
     "duration": 0.02787,
     "end_time": "2025-03-01T12:50:47.738734",
     "exception": false,
     "start_time": "2025-03-01T12:50:47.710864",
     "status": "completed"
    },
    "tags": []
   },
   "outputs": [
    {
     "data": {
      "text/plain": [
       "array([ 1,  2,  3,  4,  5,  6,  7,  8,  9, 10])"
      ]
     },
     "execution_count": 1,
     "metadata": {},
     "output_type": "execute_result"
    }
   ],
   "source": [
    "import numpy as np\n",
    "\n",
    "arr = np.array([1,2,3,4,5,6,7,8,9,10])\n",
    "arr"
   ]
  },
  {
   "cell_type": "markdown",
   "id": "cc37a9a2",
   "metadata": {
    "papermill": {
     "duration": 0.012577,
     "end_time": "2025-03-01T12:50:47.764990",
     "exception": false,
     "start_time": "2025-03-01T12:50:47.752413",
     "status": "completed"
    },
    "tags": []
   },
   "source": [
    "<a id=\"A\"></a>\n",
    "# <div style=\"text-align:center; border-radius:5px 10px; padding:5px; color:white; margin:0; font-size:70%; font-family:Pacifico; background-color:black; overflow:hidden\"><b> 2. Create a 2D array with 2 rows and 3 columns, where all elements are 5. </b></div>\n",
    "\n"
   ]
  },
  {
   "cell_type": "code",
   "execution_count": 2,
   "id": "fe12d0d6",
   "metadata": {
    "execution": {
     "iopub.execute_input": "2025-03-01T12:50:47.791908Z",
     "iopub.status.busy": "2025-03-01T12:50:47.791513Z",
     "iopub.status.idle": "2025-03-01T12:50:47.798297Z",
     "shell.execute_reply": "2025-03-01T12:50:47.797208Z"
    },
    "papermill": {
     "duration": 0.022438,
     "end_time": "2025-03-01T12:50:47.800147",
     "exception": false,
     "start_time": "2025-03-01T12:50:47.777709",
     "status": "completed"
    },
    "tags": []
   },
   "outputs": [
    {
     "data": {
      "text/plain": [
       "array([[5, 5, 5],\n",
       "       [5, 5, 5]])"
      ]
     },
     "execution_count": 2,
     "metadata": {},
     "output_type": "execute_result"
    }
   ],
   "source": [
    "import numpy as np\n",
    "arr = np.array([[5,5,5],[5,5,5]])\n",
    "arr"
   ]
  },
  {
   "cell_type": "markdown",
   "id": "b17290cb",
   "metadata": {
    "papermill": {
     "duration": 0.01231,
     "end_time": "2025-03-01T12:50:47.825882",
     "exception": false,
     "start_time": "2025-03-01T12:50:47.813572",
     "status": "completed"
    },
    "tags": []
   },
   "source": [
    "<a id=\"A\"></a>\n",
    "# <div style=\"text-align:center; border-radius:5px 10px; padding:5px; color:white; margin:0; font-size:70%; font-family:Pacifico; background-color:black; overflow:hidden\"><b> 3. Create an array with even numbers from 1 to 20. </b></div>\n",
    "\n"
   ]
  },
  {
   "cell_type": "code",
   "execution_count": 3,
   "id": "dc12a24c",
   "metadata": {
    "execution": {
     "iopub.execute_input": "2025-03-01T12:50:47.854265Z",
     "iopub.status.busy": "2025-03-01T12:50:47.853890Z",
     "iopub.status.idle": "2025-03-01T12:50:47.860326Z",
     "shell.execute_reply": "2025-03-01T12:50:47.859433Z"
    },
    "papermill": {
     "duration": 0.022336,
     "end_time": "2025-03-01T12:50:47.861921",
     "exception": false,
     "start_time": "2025-03-01T12:50:47.839585",
     "status": "completed"
    },
    "tags": []
   },
   "outputs": [
    {
     "data": {
      "text/plain": [
       "array([ 2,  4,  6,  8, 10, 12, 14, 16, 18, 20])"
      ]
     },
     "execution_count": 3,
     "metadata": {},
     "output_type": "execute_result"
    }
   ],
   "source": [
    "import numpy as np\n",
    "arr = np.arange(1,21)\n",
    "arr[1:20:2]"
   ]
  },
  {
   "cell_type": "markdown",
   "id": "d04c0a50",
   "metadata": {
    "papermill": {
     "duration": 0.012628,
     "end_time": "2025-03-01T12:50:47.887966",
     "exception": false,
     "start_time": "2025-03-01T12:50:47.875338",
     "status": "completed"
    },
    "tags": []
   },
   "source": [
    "<a id=\"A\"></a>\n",
    "# <div style=\"text-align:center; border-radius:5px 10px; padding:5px; color:white; margin:0; font-size:70%; font-family:Pacifico; background-color:black; overflow:hidden\"><b> 4.Create an array with odd numbers from 1 to 15. </b></div>\n",
    "\n"
   ]
  },
  {
   "cell_type": "code",
   "execution_count": 4,
   "id": "234e417b",
   "metadata": {
    "execution": {
     "iopub.execute_input": "2025-03-01T12:50:47.918295Z",
     "iopub.status.busy": "2025-03-01T12:50:47.917975Z",
     "iopub.status.idle": "2025-03-01T12:50:47.924119Z",
     "shell.execute_reply": "2025-03-01T12:50:47.923123Z"
    },
    "papermill": {
     "duration": 0.024292,
     "end_time": "2025-03-01T12:50:47.925855",
     "exception": false,
     "start_time": "2025-03-01T12:50:47.901563",
     "status": "completed"
    },
    "tags": []
   },
   "outputs": [
    {
     "data": {
      "text/plain": [
       "array([ 1,  3,  5,  7,  9, 11, 13, 15])"
      ]
     },
     "execution_count": 4,
     "metadata": {},
     "output_type": "execute_result"
    }
   ],
   "source": [
    "import numpy as np\n",
    "arr = np.arange(1,16)\n",
    "arr[0:15:2]"
   ]
  },
  {
   "cell_type": "markdown",
   "id": "2039810f",
   "metadata": {
    "papermill": {
     "duration": 0.013099,
     "end_time": "2025-03-01T12:50:47.952464",
     "exception": false,
     "start_time": "2025-03-01T12:50:47.939365",
     "status": "completed"
    },
    "tags": []
   },
   "source": [
    "<a id=\"A\"></a>\n",
    "# <div style=\"text-align:center; border-radius:5px 10px; padding:5px; color:white; margin:0; font-size:70%; font-family:Pacifico; background-color:black; overflow:hidden\"><b> 5. Create an array with numbers from 1 to 100. Print the first 20 elements. </b></div>\n",
    "\n"
   ]
  },
  {
   "cell_type": "code",
   "execution_count": 5,
   "id": "b7b3e661",
   "metadata": {
    "execution": {
     "iopub.execute_input": "2025-03-01T12:50:47.981337Z",
     "iopub.status.busy": "2025-03-01T12:50:47.980974Z",
     "iopub.status.idle": "2025-03-01T12:50:47.987250Z",
     "shell.execute_reply": "2025-03-01T12:50:47.986207Z"
    },
    "papermill": {
     "duration": 0.022622,
     "end_time": "2025-03-01T12:50:47.988837",
     "exception": false,
     "start_time": "2025-03-01T12:50:47.966215",
     "status": "completed"
    },
    "tags": []
   },
   "outputs": [
    {
     "data": {
      "text/plain": [
       "array([ 1,  2,  3,  4,  5,  6,  7,  8,  9, 10, 11, 12, 13, 14, 15, 16, 17,\n",
       "       18, 19, 20])"
      ]
     },
     "execution_count": 5,
     "metadata": {},
     "output_type": "execute_result"
    }
   ],
   "source": [
    "import numpy as np\n",
    "arr = np.arange(1,101)\n",
    "arr[0:20]"
   ]
  },
  {
   "cell_type": "markdown",
   "id": "ebe94118",
   "metadata": {
    "papermill": {
     "duration": 0.01334,
     "end_time": "2025-03-01T12:50:48.015420",
     "exception": false,
     "start_time": "2025-03-01T12:50:48.002080",
     "status": "completed"
    },
    "tags": []
   },
   "source": [
    "<a id=\"A\"></a>\n",
    "# <div style=\"text-align:center; border-radius:5px 10px; padding:5px; color:white; margin:0; font-size:70%; font-family:Pacifico; background-color:black; overflow:hidden\"><b> 6. Create an array with numbers from 1 to 50. Print the last 10 elements. </b></div>\n",
    "\n"
   ]
  },
  {
   "cell_type": "code",
   "execution_count": 6,
   "id": "e0f64a30",
   "metadata": {
    "execution": {
     "iopub.execute_input": "2025-03-01T12:50:48.047516Z",
     "iopub.status.busy": "2025-03-01T12:50:48.047087Z",
     "iopub.status.idle": "2025-03-01T12:50:48.053761Z",
     "shell.execute_reply": "2025-03-01T12:50:48.052738Z"
    },
    "papermill": {
     "duration": 0.025596,
     "end_time": "2025-03-01T12:50:48.055671",
     "exception": false,
     "start_time": "2025-03-01T12:50:48.030075",
     "status": "completed"
    },
    "tags": []
   },
   "outputs": [
    {
     "data": {
      "text/plain": [
       "array([41, 42, 43, 44, 45, 46, 47, 48, 49, 50])"
      ]
     },
     "execution_count": 6,
     "metadata": {},
     "output_type": "execute_result"
    }
   ],
   "source": [
    "import numpy as np\n",
    "arr = np.arange(1,51)\n",
    "arr[40:51]"
   ]
  },
  {
   "cell_type": "markdown",
   "id": "11bd08c9",
   "metadata": {
    "papermill": {
     "duration": 0.012893,
     "end_time": "2025-03-01T12:50:48.082655",
     "exception": false,
     "start_time": "2025-03-01T12:50:48.069762",
     "status": "completed"
    },
    "tags": []
   },
   "source": [
    "<a id=\"A\"></a>\n",
    "# <div style=\"text-align:center; border-radius:5px 10px; padding:5px; color:white; margin:0; font-size:70%; font-family:Pacifico; background-color:black; overflow:hidden\"><b> 7. Create an array with numbers from 1 to 30. Print all even-indexed elements. </b></div>\n",
    "\n"
   ]
  },
  {
   "cell_type": "code",
   "execution_count": 7,
   "id": "46160ec0",
   "metadata": {
    "execution": {
     "iopub.execute_input": "2025-03-01T12:50:48.113396Z",
     "iopub.status.busy": "2025-03-01T12:50:48.112904Z",
     "iopub.status.idle": "2025-03-01T12:50:48.119848Z",
     "shell.execute_reply": "2025-03-01T12:50:48.118616Z"
    },
    "papermill": {
     "duration": 0.025225,
     "end_time": "2025-03-01T12:50:48.121756",
     "exception": false,
     "start_time": "2025-03-01T12:50:48.096531",
     "status": "completed"
    },
    "tags": []
   },
   "outputs": [
    {
     "data": {
      "text/plain": [
       "array([ 1,  3,  5,  7,  9, 11, 13, 15, 17, 19, 21, 23, 25, 27, 29])"
      ]
     },
     "execution_count": 7,
     "metadata": {},
     "output_type": "execute_result"
    }
   ],
   "source": [
    "import numpy as np\n",
    "arr = np.arange(1,31)\n",
    "arr[0:30:2]"
   ]
  },
  {
   "cell_type": "markdown",
   "id": "c6133931",
   "metadata": {
    "papermill": {
     "duration": 0.013994,
     "end_time": "2025-03-01T12:50:48.149916",
     "exception": false,
     "start_time": "2025-03-01T12:50:48.135922",
     "status": "completed"
    },
    "tags": []
   },
   "source": [
    "<a id=\"A\"></a>\n",
    "# <div style=\"text-align:center; border-radius:5px 10px; padding:5px; color:white; margin:0; font-size:70%; font-family:Pacifico; background-color:black; overflow:hidden\"><b> 8. Create an array with numbers from 1 to 25. Print all odd-indexed elements. </b></div>\n",
    "\n"
   ]
  },
  {
   "cell_type": "code",
   "execution_count": 8,
   "id": "c0de4065",
   "metadata": {
    "execution": {
     "iopub.execute_input": "2025-03-01T12:50:48.181013Z",
     "iopub.status.busy": "2025-03-01T12:50:48.180606Z",
     "iopub.status.idle": "2025-03-01T12:50:48.187698Z",
     "shell.execute_reply": "2025-03-01T12:50:48.186396Z"
    },
    "papermill": {
     "duration": 0.025823,
     "end_time": "2025-03-01T12:50:48.189587",
     "exception": false,
     "start_time": "2025-03-01T12:50:48.163764",
     "status": "completed"
    },
    "tags": []
   },
   "outputs": [
    {
     "data": {
      "text/plain": [
       "array([ 2,  4,  6,  8, 10, 12, 14, 16, 18, 20, 22, 24])"
      ]
     },
     "execution_count": 8,
     "metadata": {},
     "output_type": "execute_result"
    }
   ],
   "source": [
    "import numpy as np\n",
    "arr = np.arange(1,26)\n",
    "arr[1:25:2]"
   ]
  },
  {
   "cell_type": "markdown",
   "id": "a38415ca",
   "metadata": {
    "papermill": {
     "duration": 0.014176,
     "end_time": "2025-03-01T12:50:48.217948",
     "exception": false,
     "start_time": "2025-03-01T12:50:48.203772",
     "status": "completed"
    },
    "tags": []
   },
   "source": [
    "<a id=\"A\"></a>\n",
    "# <div style=\"text-align:center; border-radius:5px 10px; padding:5px; color:white; margin:0; font-size:70%; font-family:Pacifico; background-color:black; overflow:hidden\"><b> 9. Create an array with numbers from 1 to 10. Calculate the square of all elements. </b></div>\n",
    "\n"
   ]
  },
  {
   "cell_type": "code",
   "execution_count": 9,
   "id": "a0aeac3a",
   "metadata": {
    "execution": {
     "iopub.execute_input": "2025-03-01T12:50:48.247231Z",
     "iopub.status.busy": "2025-03-01T12:50:48.246856Z",
     "iopub.status.idle": "2025-03-01T12:50:48.255221Z",
     "shell.execute_reply": "2025-03-01T12:50:48.254083Z"
    },
    "papermill": {
     "duration": 0.025231,
     "end_time": "2025-03-01T12:50:48.257032",
     "exception": false,
     "start_time": "2025-03-01T12:50:48.231801",
     "status": "completed"
    },
    "tags": []
   },
   "outputs": [
    {
     "data": {
      "text/plain": [
       "array([  1,   4,   9,  16,  25,  36,  49,  64,  81, 100])"
      ]
     },
     "execution_count": 9,
     "metadata": {},
     "output_type": "execute_result"
    }
   ],
   "source": [
    "import numpy as np\n",
    "arr = np.arange(1,11)\n",
    "ar = arr*arr\n",
    "ar"
   ]
  },
  {
   "cell_type": "markdown",
   "id": "ca3e298d",
   "metadata": {
    "papermill": {
     "duration": 0.013666,
     "end_time": "2025-03-01T12:50:48.285221",
     "exception": false,
     "start_time": "2025-03-01T12:50:48.271555",
     "status": "completed"
    },
    "tags": []
   },
   "source": [
    "<a id=\"A\"></a>\n",
    "# <div style=\"text-align:center; border-radius:5px 10px; padding:5px; color:white; margin:0; font-size:70%; font-family:Pacifico; background-color:black; overflow:hidden\"><b> 10. Create an array with numbers from 1 to 10. Calculate the cube of all elements. </b></div>\n",
    "\n"
   ]
  },
  {
   "cell_type": "code",
   "execution_count": 10,
   "id": "2efe2675",
   "metadata": {
    "execution": {
     "iopub.execute_input": "2025-03-01T12:50:48.317686Z",
     "iopub.status.busy": "2025-03-01T12:50:48.317229Z",
     "iopub.status.idle": "2025-03-01T12:50:48.324625Z",
     "shell.execute_reply": "2025-03-01T12:50:48.323517Z"
    },
    "papermill": {
     "duration": 0.027134,
     "end_time": "2025-03-01T12:50:48.326751",
     "exception": false,
     "start_time": "2025-03-01T12:50:48.299617",
     "status": "completed"
    },
    "tags": []
   },
   "outputs": [
    {
     "data": {
      "text/plain": [
       "array([   1,    8,   27,   64,  125,  216,  343,  512,  729, 1000])"
      ]
     },
     "execution_count": 10,
     "metadata": {},
     "output_type": "execute_result"
    }
   ],
   "source": [
    "import numpy as np\n",
    "arr = np.arange(1,11)\n",
    "ar = arr*arr*arr\n",
    "ar"
   ]
  },
  {
   "cell_type": "markdown",
   "id": "69e4c58f",
   "metadata": {
    "papermill": {
     "duration": 0.013669,
     "end_time": "2025-03-01T12:50:48.358752",
     "exception": false,
     "start_time": "2025-03-01T12:50:48.345083",
     "status": "completed"
    },
    "tags": []
   },
   "source": [
    "<a id=\"A\"></a>\n",
    "# <div style=\"text-align:center; border-radius:5px 10px; padding:5px; color:white; margin:0; font-size:70%; font-family:Pacifico; background-color:black; overflow:hidden\"><b> 11. Create an array with numbers from 1 to 20. Calculate the sum of all elements. </b></div>\n",
    "\n"
   ]
  },
  {
   "cell_type": "code",
   "execution_count": 11,
   "id": "946f1f79",
   "metadata": {
    "execution": {
     "iopub.execute_input": "2025-03-01T12:50:48.387172Z",
     "iopub.status.busy": "2025-03-01T12:50:48.386847Z",
     "iopub.status.idle": "2025-03-01T12:50:48.393474Z",
     "shell.execute_reply": "2025-03-01T12:50:48.392450Z"
    },
    "papermill": {
     "duration": 0.022928,
     "end_time": "2025-03-01T12:50:48.395189",
     "exception": false,
     "start_time": "2025-03-01T12:50:48.372261",
     "status": "completed"
    },
    "tags": []
   },
   "outputs": [
    {
     "data": {
      "text/plain": [
       "210"
      ]
     },
     "execution_count": 11,
     "metadata": {},
     "output_type": "execute_result"
    }
   ],
   "source": [
    "import numpy as np\n",
    "arr = np.arange(1,21)\n",
    "np.sum(arr)"
   ]
  },
  {
   "cell_type": "markdown",
   "id": "95ab7c53",
   "metadata": {
    "papermill": {
     "duration": 0.013464,
     "end_time": "2025-03-01T12:50:48.422611",
     "exception": false,
     "start_time": "2025-03-01T12:50:48.409147",
     "status": "completed"
    },
    "tags": []
   },
   "source": [
    "<a id=\"A\"></a>\n",
    "# <div style=\"text-align:center; border-radius:5px 10px; padding:5px; color:white; margin:0; font-size:70%; font-family:Pacifico; background-color:black; overflow:hidden\"><b> 12. Create an array with numbers from 1 to 20. Calculate the product of all elements. </b></div>\n",
    "\n"
   ]
  },
  {
   "cell_type": "code",
   "execution_count": 12,
   "id": "a82dc96a",
   "metadata": {
    "execution": {
     "iopub.execute_input": "2025-03-01T12:50:48.453100Z",
     "iopub.status.busy": "2025-03-01T12:50:48.452733Z",
     "iopub.status.idle": "2025-03-01T12:50:48.458689Z",
     "shell.execute_reply": "2025-03-01T12:50:48.457627Z"
    },
    "papermill": {
     "duration": 0.023621,
     "end_time": "2025-03-01T12:50:48.460458",
     "exception": false,
     "start_time": "2025-03-01T12:50:48.436837",
     "status": "completed"
    },
    "tags": []
   },
   "outputs": [
    {
     "data": {
      "text/plain": [
       "2432902008176640000"
      ]
     },
     "execution_count": 12,
     "metadata": {},
     "output_type": "execute_result"
    }
   ],
   "source": [
    "import numpy as np\n",
    "arr = np.arange(1,21)\n",
    "np.product(arr)"
   ]
  },
  {
   "cell_type": "markdown",
   "id": "2fb87f92",
   "metadata": {
    "papermill": {
     "duration": 0.013899,
     "end_time": "2025-03-01T12:50:48.489430",
     "exception": false,
     "start_time": "2025-03-01T12:50:48.475531",
     "status": "completed"
    },
    "tags": []
   },
   "source": [
    "<a id=\"A\"></a>\n",
    "# <div style=\"text-align:center; border-radius:5px 10px; padding:5px; color:white; margin:0; font-size:70%; font-family:Pacifico; background-color:black; overflow:hidden\"><b> 13. Create an array with 100 random numbers between 1 and 100. Calculate the mean of the array. </b></div>\n",
    "\n"
   ]
  },
  {
   "cell_type": "code",
   "execution_count": 13,
   "id": "e5e581c9",
   "metadata": {
    "execution": {
     "iopub.execute_input": "2025-03-01T12:50:48.519499Z",
     "iopub.status.busy": "2025-03-01T12:50:48.519077Z",
     "iopub.status.idle": "2025-03-01T12:50:48.527068Z",
     "shell.execute_reply": "2025-03-01T12:50:48.526028Z"
    },
    "papermill": {
     "duration": 0.024905,
     "end_time": "2025-03-01T12:50:48.528708",
     "exception": false,
     "start_time": "2025-03-01T12:50:48.503803",
     "status": "completed"
    },
    "tags": []
   },
   "outputs": [
    {
     "name": "stdout",
     "output_type": "stream",
     "text": [
      "[ 54  16  23  45  82  50  56  38  12  42  16  63  84  59   1  36  18  72\n",
      "  38 100  48  30  83  58  88  95  89  95  19  18   6  25  65  79  69  45\n",
      "  55   9  59  10   1  84  34  62  48  72  82  30  47  14  59  97  68  71\n",
      "  48  27  28  85   7   4  91  54  36  65  39  10  26  60  45  83  86  66\n",
      "  75  33  38  48   6  59  20  18  42  76  11  79  57  55  36  96  69  69\n",
      "  75  99   2  27  45  27  57  19  13  94]\n"
     ]
    },
    {
     "data": {
      "text/plain": [
       "49.24"
      ]
     },
     "execution_count": 13,
     "metadata": {},
     "output_type": "execute_result"
    }
   ],
   "source": [
    "import numpy as np\n",
    "arr = np.random.randint(1,101, size=100)\n",
    "print(arr)\n",
    "arr.mean()"
   ]
  },
  {
   "cell_type": "markdown",
   "id": "37760e93",
   "metadata": {
    "papermill": {
     "duration": 0.014448,
     "end_time": "2025-03-01T12:50:48.557411",
     "exception": false,
     "start_time": "2025-03-01T12:50:48.542963",
     "status": "completed"
    },
    "tags": []
   },
   "source": [
    "<a id=\"A\"></a>\n",
    "# <div style=\"text-align:center; border-radius:5px 10px; padding:5px; color:white; margin:0; font-size:70%; font-family:Pacifico; background-color:black; overflow:hidden\"><b> 14. Create an array with 100 random numbers between 1 and 100. Calculate the median of the array. </b></div>\n",
    "\n"
   ]
  },
  {
   "cell_type": "code",
   "execution_count": 14,
   "id": "f79ddb3f",
   "metadata": {
    "execution": {
     "iopub.execute_input": "2025-03-01T12:50:48.587043Z",
     "iopub.status.busy": "2025-03-01T12:50:48.586714Z",
     "iopub.status.idle": "2025-03-01T12:50:48.595268Z",
     "shell.execute_reply": "2025-03-01T12:50:48.594189Z"
    },
    "papermill": {
     "duration": 0.025481,
     "end_time": "2025-03-01T12:50:48.597021",
     "exception": false,
     "start_time": "2025-03-01T12:50:48.571540",
     "status": "completed"
    },
    "tags": []
   },
   "outputs": [
    {
     "data": {
      "text/plain": [
       "44.5"
      ]
     },
     "execution_count": 14,
     "metadata": {},
     "output_type": "execute_result"
    }
   ],
   "source": [
    "import numpy as np\n",
    "arr = np.random.randint(1,101,size=100)\n",
    "np.median(arr)"
   ]
  },
  {
   "cell_type": "markdown",
   "id": "ffd75115",
   "metadata": {
    "papermill": {
     "duration": 0.014101,
     "end_time": "2025-03-01T12:50:48.625668",
     "exception": false,
     "start_time": "2025-03-01T12:50:48.611567",
     "status": "completed"
    },
    "tags": []
   },
   "source": [
    "<a id=\"A\"></a>\n",
    "# <div style=\"text-align:center; border-radius:5px 10px; padding:5px; color:white; margin:0; font-size:70%; font-family:Pacifico; background-color:black; overflow:hidden\"><b> 15. Create an array with 100 random numbers between 1 and 100. Calculate the standard deviation of the array. </b></div>\n",
    "\n"
   ]
  },
  {
   "cell_type": "code",
   "execution_count": 15,
   "id": "701177df",
   "metadata": {
    "execution": {
     "iopub.execute_input": "2025-03-01T12:50:48.712639Z",
     "iopub.status.busy": "2025-03-01T12:50:48.712265Z",
     "iopub.status.idle": "2025-03-01T12:50:48.718846Z",
     "shell.execute_reply": "2025-03-01T12:50:48.717743Z"
    },
    "papermill": {
     "duration": 0.080739,
     "end_time": "2025-03-01T12:50:48.720574",
     "exception": false,
     "start_time": "2025-03-01T12:50:48.639835",
     "status": "completed"
    },
    "tags": []
   },
   "outputs": [
    {
     "data": {
      "text/plain": [
       "28.864400218954835"
      ]
     },
     "execution_count": 15,
     "metadata": {},
     "output_type": "execute_result"
    }
   ],
   "source": [
    "import numpy as np\n",
    "arr = np.random.randint(1,101,size=100)\n",
    "arr.std()"
   ]
  },
  {
   "cell_type": "markdown",
   "id": "92d20c26",
   "metadata": {
    "papermill": {
     "duration": 0.014109,
     "end_time": "2025-03-01T12:50:48.749282",
     "exception": false,
     "start_time": "2025-03-01T12:50:48.735173",
     "status": "completed"
    },
    "tags": []
   },
   "source": [
    "<a id=\"A\"></a>\n",
    "# <div style=\"text-align:center; border-radius:5px 10px; padding:5px; color:white; margin:0; font-size:70%; font-family:Pacifico; background-color:black; overflow:hidden\"><b> 16. Create an array with 100 random numbers between 1 and 100. Calculate the variance of the array. </b></div>\n",
    "\n"
   ]
  },
  {
   "cell_type": "code",
   "execution_count": 16,
   "id": "00d3eb3c",
   "metadata": {
    "execution": {
     "iopub.execute_input": "2025-03-01T12:50:48.779524Z",
     "iopub.status.busy": "2025-03-01T12:50:48.779127Z",
     "iopub.status.idle": "2025-03-01T12:50:48.785536Z",
     "shell.execute_reply": "2025-03-01T12:50:48.784608Z"
    },
    "papermill": {
     "duration": 0.023469,
     "end_time": "2025-03-01T12:50:48.787370",
     "exception": false,
     "start_time": "2025-03-01T12:50:48.763901",
     "status": "completed"
    },
    "tags": []
   },
   "outputs": [
    {
     "data": {
      "text/plain": [
       "799.6475"
      ]
     },
     "execution_count": 16,
     "metadata": {},
     "output_type": "execute_result"
    }
   ],
   "source": [
    "import numpy as np\n",
    "arr = np.random.randint(1,101,size=100)\n",
    "arr.var()"
   ]
  },
  {
   "cell_type": "markdown",
   "id": "4eea3dc1",
   "metadata": {
    "papermill": {
     "duration": 0.014323,
     "end_time": "2025-03-01T12:50:48.816255",
     "exception": false,
     "start_time": "2025-03-01T12:50:48.801932",
     "status": "completed"
    },
    "tags": []
   },
   "source": [
    "<a id=\"A\"></a>\n",
    "# <div style=\"text-align:center; border-radius:5px 10px; padding:5px; color:white; margin:0; font-size:70%; font-family:Pacifico; background-color:black; overflow:hidden\"><b> 17. Create an array with numbers from 1 to 50. Sort the array in ascending order. </b></div>\n",
    "\n"
   ]
  },
  {
   "cell_type": "code",
   "execution_count": 17,
   "id": "0fb4588f",
   "metadata": {
    "execution": {
     "iopub.execute_input": "2025-03-01T12:50:48.846584Z",
     "iopub.status.busy": "2025-03-01T12:50:48.846139Z",
     "iopub.status.idle": "2025-03-01T12:50:48.852887Z",
     "shell.execute_reply": "2025-03-01T12:50:48.851747Z"
    },
    "papermill": {
     "duration": 0.023867,
     "end_time": "2025-03-01T12:50:48.854711",
     "exception": false,
     "start_time": "2025-03-01T12:50:48.830844",
     "status": "completed"
    },
    "tags": []
   },
   "outputs": [
    {
     "data": {
      "text/plain": [
       "array([ 1,  2,  3,  4,  5,  6,  7,  8,  9, 10, 11, 12, 13, 14, 15, 16, 17,\n",
       "       18, 19, 20, 21, 22, 23, 24, 25, 26, 27, 28, 29, 30, 31, 32, 33, 34,\n",
       "       35, 36, 37, 38, 39, 40, 41, 42, 43, 44, 45, 46, 47, 48, 49, 50])"
      ]
     },
     "execution_count": 17,
     "metadata": {},
     "output_type": "execute_result"
    }
   ],
   "source": [
    "import numpy as np\n",
    "arr = np.arange(1,51)\n",
    "arr.sort()\n",
    "arr"
   ]
  },
  {
   "cell_type": "markdown",
   "id": "acbc5bba",
   "metadata": {
    "papermill": {
     "duration": 0.014827,
     "end_time": "2025-03-01T12:50:48.884717",
     "exception": false,
     "start_time": "2025-03-01T12:50:48.869890",
     "status": "completed"
    },
    "tags": []
   },
   "source": [
    "<a id=\"A\"></a>\n",
    "# <div style=\"text-align:center; border-radius:5px 10px; padding:5px; color:white; margin:0; font-size:70%; font-family:Pacifico; background-color:black; overflow:hidden\"><b> 18. Create an array with numbers from 1 to 50. Sort the array in descending order. </b></div>\n",
    "\n"
   ]
  },
  {
   "cell_type": "code",
   "execution_count": 18,
   "id": "266e0930",
   "metadata": {
    "execution": {
     "iopub.execute_input": "2025-03-01T12:50:48.916166Z",
     "iopub.status.busy": "2025-03-01T12:50:48.915752Z",
     "iopub.status.idle": "2025-03-01T12:50:48.922824Z",
     "shell.execute_reply": "2025-03-01T12:50:48.921836Z"
    },
    "papermill": {
     "duration": 0.025052,
     "end_time": "2025-03-01T12:50:48.924633",
     "exception": false,
     "start_time": "2025-03-01T12:50:48.899581",
     "status": "completed"
    },
    "tags": []
   },
   "outputs": [
    {
     "data": {
      "text/plain": [
       "array([50, 49, 48, 47, 46, 45, 44, 43, 42, 41, 40, 39, 38, 37, 36, 35, 34,\n",
       "       33, 32, 31, 30, 29, 28, 27, 26, 25, 24, 23, 22, 21, 20, 19, 18, 17,\n",
       "       16, 15, 14, 13, 12, 11, 10,  9,  8,  7,  6,  5,  4,  3,  2,  1])"
      ]
     },
     "execution_count": 18,
     "metadata": {},
     "output_type": "execute_result"
    }
   ],
   "source": [
    "import numpy as np\n",
    "arr = np.arange(1,51)\n",
    "arr[::-1]"
   ]
  },
  {
   "cell_type": "markdown",
   "id": "27680596",
   "metadata": {
    "papermill": {
     "duration": 0.01413,
     "end_time": "2025-03-01T12:50:48.954028",
     "exception": false,
     "start_time": "2025-03-01T12:50:48.939898",
     "status": "completed"
    },
    "tags": []
   },
   "source": [
    "<a id=\"A\"></a>\n",
    "# <div style=\"text-align:center; border-radius:5px 10px; padding:5px; color:white; margin:0; font-size:70%; font-family:Pacifico; background-color:black; overflow:hidden\"><b> 19. Create an array with 100 random numbers between 1 and 100. Print all unique elements. </b></div>\n",
    "\n"
   ]
  },
  {
   "cell_type": "code",
   "execution_count": 19,
   "id": "f5113f9c",
   "metadata": {
    "execution": {
     "iopub.execute_input": "2025-03-01T12:50:48.984983Z",
     "iopub.status.busy": "2025-03-01T12:50:48.984594Z",
     "iopub.status.idle": "2025-03-01T12:50:48.992937Z",
     "shell.execute_reply": "2025-03-01T12:50:48.991606Z"
    },
    "papermill": {
     "duration": 0.025462,
     "end_time": "2025-03-01T12:50:48.994602",
     "exception": false,
     "start_time": "2025-03-01T12:50:48.969140",
     "status": "completed"
    },
    "tags": []
   },
   "outputs": [
    {
     "data": {
      "text/plain": [
       "array([ 1,  2,  3,  4,  6,  7,  8, 10, 11, 12, 13, 14, 16, 19, 21, 22, 23,\n",
       "       28, 29, 30, 32, 33, 35, 37, 38, 39, 40, 41, 42, 45, 46, 48, 53, 54,\n",
       "       56, 59, 62, 64, 66, 67, 68, 69, 72, 73, 74, 76, 79, 80, 82, 83, 86,\n",
       "       87, 88, 89, 93, 94, 95, 96, 97])"
      ]
     },
     "execution_count": 19,
     "metadata": {},
     "output_type": "execute_result"
    }
   ],
   "source": [
    "import numpy as np\n",
    "arr = np.random.randint(1,101,size=100)\n",
    "np.unique(arr)"
   ]
  },
  {
   "cell_type": "markdown",
   "id": "325d765d",
   "metadata": {
    "papermill": {
     "duration": 0.01437,
     "end_time": "2025-03-01T12:50:49.024206",
     "exception": false,
     "start_time": "2025-03-01T12:50:49.009836",
     "status": "completed"
    },
    "tags": []
   },
   "source": [
    "<a id=\"A\"></a>\n",
    "# <div style=\"text-align:center; border-radius:5px 10px; padding:5px; color:white; margin:0; font-size:70%; font-family:Pacifico; background-color:black; overflow:hidden\"><b> 20. Create an array with 100 random numbers between 1 and 100. Print all duplicate elements. </b></div>\n",
    "\n"
   ]
  },
  {
   "cell_type": "code",
   "execution_count": 20,
   "id": "4c45c750",
   "metadata": {
    "execution": {
     "iopub.execute_input": "2025-03-01T12:50:49.054770Z",
     "iopub.status.busy": "2025-03-01T12:50:49.054411Z",
     "iopub.status.idle": "2025-03-01T12:50:49.061659Z",
     "shell.execute_reply": "2025-03-01T12:50:49.060489Z"
    },
    "papermill": {
     "duration": 0.024421,
     "end_time": "2025-03-01T12:50:49.063337",
     "exception": false,
     "start_time": "2025-03-01T12:50:49.038916",
     "status": "completed"
    },
    "tags": []
   },
   "outputs": [
    {
     "name": "stdout",
     "output_type": "stream",
     "text": [
      "[ 1  2  3  7  8  9 10 11 12 13 14 15 19 20 21 24 25 26 27 29 30 32 33 34\n",
      " 35 38 39 42 44 45 47 48 49 50 51 52 54 56 58 63 65 66 67 68 70 71 73 76\n",
      " 77 79 81 82 84 85 87 89 90 91 95 97 98 99]\n",
      "[ 2  3  9 12 21 25 34 35 39 47 48 49 50 51 52 54 58 71 73 76 77 81 87 90\n",
      " 91 95 97]\n"
     ]
    }
   ],
   "source": [
    "import numpy as np\n",
    "random_numbers = np.random.randint(1, 101, size=100)\n",
    "unique_elements, counts = np.unique(random_numbers, return_counts=True)\n",
    "duplicates = unique_elements[counts > 1]\n",
    "print(unique_elements)\n",
    "print(duplicates)"
   ]
  },
  {
   "cell_type": "markdown",
   "id": "2bd165a7",
   "metadata": {
    "papermill": {
     "duration": 0.014516,
     "end_time": "2025-03-01T12:50:49.092773",
     "exception": false,
     "start_time": "2025-03-01T12:50:49.078257",
     "status": "completed"
    },
    "tags": []
   },
   "source": [
    "<a id=\"A\"></a>\n",
    "# <div style=\"text-align:center; border-radius:15px 30px; padding:10px; color:white; margin:0; font-size:100%; font-family:Pacifico; background-color:red; overflow:hidden\"><b> Intermediate Problems </b></div>\n",
    "\n"
   ]
  },
  {
   "cell_type": "markdown",
   "id": "4a7ea757",
   "metadata": {
    "papermill": {
     "duration": 0.014434,
     "end_time": "2025-03-01T12:50:49.121977",
     "exception": false,
     "start_time": "2025-03-01T12:50:49.107543",
     "status": "completed"
    },
    "tags": []
   },
   "source": [
    "<a id=\"A\"></a>\n",
    "# <div style=\"text-align:center; border-radius:5px 10px; padding:5px; color:white; margin:0; font-size:70%; font-family:Pacifico; background-color:black; overflow:hidden\"><b> 21. Create a 1D array with numbers from 1 to 25. Reshape it into a 5x5 matrix. </b></div>\n",
    "\n"
   ]
  },
  {
   "cell_type": "code",
   "execution_count": 21,
   "id": "0ddef412",
   "metadata": {
    "execution": {
     "iopub.execute_input": "2025-03-01T12:50:49.152506Z",
     "iopub.status.busy": "2025-03-01T12:50:49.152084Z",
     "iopub.status.idle": "2025-03-01T12:50:49.158514Z",
     "shell.execute_reply": "2025-03-01T12:50:49.157338Z"
    },
    "papermill": {
     "duration": 0.023619,
     "end_time": "2025-03-01T12:50:49.160273",
     "exception": false,
     "start_time": "2025-03-01T12:50:49.136654",
     "status": "completed"
    },
    "tags": []
   },
   "outputs": [
    {
     "data": {
      "text/plain": [
       "array([[ 1,  2,  3,  4,  5],\n",
       "       [ 6,  7,  8,  9, 10],\n",
       "       [11, 12, 13, 14, 15],\n",
       "       [16, 17, 18, 19, 20],\n",
       "       [21, 22, 23, 24, 25]])"
      ]
     },
     "execution_count": 21,
     "metadata": {},
     "output_type": "execute_result"
    }
   ],
   "source": [
    "import numpy as np\n",
    "arr = np.arange(1,26)\n",
    "arr.reshape(5,5)"
   ]
  },
  {
   "cell_type": "markdown",
   "id": "205fb748",
   "metadata": {
    "papermill": {
     "duration": 0.014586,
     "end_time": "2025-03-01T12:50:49.190453",
     "exception": false,
     "start_time": "2025-03-01T12:50:49.175867",
     "status": "completed"
    },
    "tags": []
   },
   "source": [
    "<a id=\"A\"></a>\n",
    "# <div style=\"text-align:center; border-radius:5px 10px; padding:5px; color:white; margin:0; font-size:70%; font-family:Pacifico; background-color:black; overflow:hidden\"><b> 22. Create a 2D array with 3 rows and 3 columns, where each element is equal to its row index. </b></div>\n",
    "\n"
   ]
  },
  {
   "cell_type": "code",
   "execution_count": 22,
   "id": "9f3cbceb",
   "metadata": {
    "execution": {
     "iopub.execute_input": "2025-03-01T12:50:49.222043Z",
     "iopub.status.busy": "2025-03-01T12:50:49.221640Z",
     "iopub.status.idle": "2025-03-01T12:50:49.227772Z",
     "shell.execute_reply": "2025-03-01T12:50:49.226789Z"
    },
    "papermill": {
     "duration": 0.023585,
     "end_time": "2025-03-01T12:50:49.229437",
     "exception": false,
     "start_time": "2025-03-01T12:50:49.205852",
     "status": "completed"
    },
    "tags": []
   },
   "outputs": [
    {
     "name": "stdout",
     "output_type": "stream",
     "text": [
      "[[0 0 0]\n",
      " [1 1 1]\n",
      " [2 2 2]]\n"
     ]
    }
   ],
   "source": [
    "import numpy as np\n",
    "array = np.full((3, 3), np.arange(3).reshape(3, 1))\n",
    "print(array)\n"
   ]
  },
  {
   "cell_type": "markdown",
   "id": "a3d514f2",
   "metadata": {
    "papermill": {
     "duration": 0.014761,
     "end_time": "2025-03-01T12:50:49.259426",
     "exception": false,
     "start_time": "2025-03-01T12:50:49.244665",
     "status": "completed"
    },
    "tags": []
   },
   "source": [
    "<a id=\"A\"></a>\n",
    "# <div style=\"text-align:center; border-radius:5px 10px; padding:5px; color:white; margin:0; font-size:70%; font-family:Pacifico; background-color:black; overflow:hidden\"><b> 23. Create a 2D array with 4 rows and 4 columns, where each element is equal to its column index. </b></div>\n",
    "\n"
   ]
  },
  {
   "cell_type": "code",
   "execution_count": 23,
   "id": "eac0d55f",
   "metadata": {
    "execution": {
     "iopub.execute_input": "2025-03-01T12:50:49.290866Z",
     "iopub.status.busy": "2025-03-01T12:50:49.290448Z",
     "iopub.status.idle": "2025-03-01T12:50:49.297263Z",
     "shell.execute_reply": "2025-03-01T12:50:49.295877Z"
    },
    "papermill": {
     "duration": 0.024664,
     "end_time": "2025-03-01T12:50:49.299072",
     "exception": false,
     "start_time": "2025-03-01T12:50:49.274408",
     "status": "completed"
    },
    "tags": []
   },
   "outputs": [
    {
     "data": {
      "text/plain": [
       "array([[0, 1, 2, 3],\n",
       "       [0, 1, 2, 3],\n",
       "       [0, 1, 2, 3],\n",
       "       [0, 1, 2, 3]])"
      ]
     },
     "execution_count": 23,
     "metadata": {},
     "output_type": "execute_result"
    }
   ],
   "source": [
    "import numpy as np \n",
    "array = np.full((4, 4), np.arange(4))\n",
    "array\n"
   ]
  },
  {
   "cell_type": "markdown",
   "id": "8749386d",
   "metadata": {
    "papermill": {
     "duration": 0.015154,
     "end_time": "2025-03-01T12:50:49.331425",
     "exception": false,
     "start_time": "2025-03-01T12:50:49.316271",
     "status": "completed"
    },
    "tags": []
   },
   "source": [
    "<a id=\"A\"></a>\n",
    "# <div style=\"text-align:center; border-radius:5px 10px; padding:5px; color:white; margin:0; font-size:70%; font-family:Pacifico; background-color:black; overflow:hidden\"><b> 24. Create a 2D array with 3 rows and 3 columns, where each element is the sum of its row and column indices. </b></div>\n"
   ]
  },
  {
   "cell_type": "code",
   "execution_count": 24,
   "id": "bf051bab",
   "metadata": {
    "execution": {
     "iopub.execute_input": "2025-03-01T12:50:49.363563Z",
     "iopub.status.busy": "2025-03-01T12:50:49.363192Z",
     "iopub.status.idle": "2025-03-01T12:50:49.370161Z",
     "shell.execute_reply": "2025-03-01T12:50:49.369063Z"
    },
    "papermill": {
     "duration": 0.024996,
     "end_time": "2025-03-01T12:50:49.371964",
     "exception": false,
     "start_time": "2025-03-01T12:50:49.346968",
     "status": "completed"
    },
    "tags": []
   },
   "outputs": [
    {
     "data": {
      "text/plain": [
       "array([[0, 1, 2],\n",
       "       [1, 2, 3],\n",
       "       [2, 3, 4]])"
      ]
     },
     "execution_count": 24,
     "metadata": {},
     "output_type": "execute_result"
    }
   ],
   "source": [
    "import numpy as np\n",
    "rows,columns = np.indices((3,3))\n",
    "array = rows + columns \n",
    "array"
   ]
  },
  {
   "cell_type": "markdown",
   "id": "13f4373f",
   "metadata": {
    "papermill": {
     "duration": 0.01481,
     "end_time": "2025-03-01T12:50:49.402282",
     "exception": false,
     "start_time": "2025-03-01T12:50:49.387472",
     "status": "completed"
    },
    "tags": []
   },
   "source": [
    "<a id=\"A\"></a>\n",
    "# <div style=\"text-align:center; border-radius:5px 10px; padding:5px; color:white; margin:0; font-size:70%; font-family:Pacifico; background-color:black; overflow:hidden\"><b> 25. Create a 2D array with 3 rows and 3 columns, where each element is the product of its row and column indices. </b></div>\n"
   ]
  },
  {
   "cell_type": "code",
   "execution_count": 25,
   "id": "60a7e22e",
   "metadata": {
    "execution": {
     "iopub.execute_input": "2025-03-01T12:50:49.433766Z",
     "iopub.status.busy": "2025-03-01T12:50:49.433382Z",
     "iopub.status.idle": "2025-03-01T12:50:49.439871Z",
     "shell.execute_reply": "2025-03-01T12:50:49.438833Z"
    },
    "papermill": {
     "duration": 0.024387,
     "end_time": "2025-03-01T12:50:49.441755",
     "exception": false,
     "start_time": "2025-03-01T12:50:49.417368",
     "status": "completed"
    },
    "tags": []
   },
   "outputs": [
    {
     "data": {
      "text/plain": [
       "array([[0, 0, 0],\n",
       "       [0, 1, 2],\n",
       "       [0, 2, 4]])"
      ]
     },
     "execution_count": 25,
     "metadata": {},
     "output_type": "execute_result"
    }
   ],
   "source": [
    "import numpy as np\n",
    "rows,columns = np.indices((3,3))\n",
    "array = rows * columns\n",
    "array"
   ]
  },
  {
   "cell_type": "markdown",
   "id": "46aeb458",
   "metadata": {
    "papermill": {
     "duration": 0.014938,
     "end_time": "2025-03-01T12:50:49.472902",
     "exception": false,
     "start_time": "2025-03-01T12:50:49.457964",
     "status": "completed"
    },
    "tags": []
   },
   "source": [
    "<a id=\"A\"></a>\n",
    "# <div style=\"text-align:center; border-radius:5px 10px; padding:5px; color:white; margin:0; font-size:70%; font-family:Pacifico; background-color:black; overflow:hidden\"><b> 26. Create a 2D array with 3 rows and 3 columns. Add 10 to all elements using broadcasting. </b></div>\n"
   ]
  },
  {
   "cell_type": "code",
   "execution_count": 26,
   "id": "66ef0727",
   "metadata": {
    "execution": {
     "iopub.execute_input": "2025-03-01T12:50:49.504361Z",
     "iopub.status.busy": "2025-03-01T12:50:49.503983Z",
     "iopub.status.idle": "2025-03-01T12:50:49.510604Z",
     "shell.execute_reply": "2025-03-01T12:50:49.509424Z"
    },
    "papermill": {
     "duration": 0.024574,
     "end_time": "2025-03-01T12:50:49.512554",
     "exception": false,
     "start_time": "2025-03-01T12:50:49.487980",
     "status": "completed"
    },
    "tags": []
   },
   "outputs": [
    {
     "data": {
      "text/plain": [
       "array([[10, 10, 10],\n",
       "       [10, 10, 10],\n",
       "       [10, 10, 10]])"
      ]
     },
     "execution_count": 26,
     "metadata": {},
     "output_type": "execute_result"
    }
   ],
   "source": [
    "import numpy as np\n",
    "arr = np.array([[0,0,0],[0,0,0],[0,0,0]])\n",
    "ar = arr + 10\n",
    "ar"
   ]
  },
  {
   "cell_type": "markdown",
   "id": "b090d8f2",
   "metadata": {
    "papermill": {
     "duration": 0.015076,
     "end_time": "2025-03-01T12:50:49.543764",
     "exception": false,
     "start_time": "2025-03-01T12:50:49.528688",
     "status": "completed"
    },
    "tags": []
   },
   "source": [
    "<a id=\"A\"></a>\n",
    "# <div style=\"text-align:center; border-radius:5px 10px; padding:5px; color:white; margin:0; font-size:70%; font-family:Pacifico; background-color:black; overflow:hidden\"><b> 27. Create a 2D array with 3 rows and 3 columns. Multiply all elements by 2. </b></div>\n"
   ]
  },
  {
   "cell_type": "code",
   "execution_count": 27,
   "id": "ad3e8c94",
   "metadata": {
    "execution": {
     "iopub.execute_input": "2025-03-01T12:50:49.575564Z",
     "iopub.status.busy": "2025-03-01T12:50:49.575165Z",
     "iopub.status.idle": "2025-03-01T12:50:49.581656Z",
     "shell.execute_reply": "2025-03-01T12:50:49.580689Z"
    },
    "papermill": {
     "duration": 0.024016,
     "end_time": "2025-03-01T12:50:49.583252",
     "exception": false,
     "start_time": "2025-03-01T12:50:49.559236",
     "status": "completed"
    },
    "tags": []
   },
   "outputs": [
    {
     "data": {
      "text/plain": [
       "array([[2, 2, 2],\n",
       "       [2, 2, 2],\n",
       "       [2, 2, 2]])"
      ]
     },
     "execution_count": 27,
     "metadata": {},
     "output_type": "execute_result"
    }
   ],
   "source": [
    "import numpy as np\n",
    "arr = np.array([[1,1,1],[1,1,1],[1,1,1]])\n",
    "ar = arr * 2\n",
    "ar"
   ]
  },
  {
   "cell_type": "markdown",
   "id": "4d4cbcf5",
   "metadata": {
    "papermill": {
     "duration": 0.015023,
     "end_time": "2025-03-01T12:50:49.613947",
     "exception": false,
     "start_time": "2025-03-01T12:50:49.598924",
     "status": "completed"
    },
    "tags": []
   },
   "source": [
    "<a id=\"A\"></a>\n",
    "# <div style=\"text-align:center; border-radius:5px 10px; padding:5px; color:white; margin:0; font-size:70%; font-family:Pacifico; background-color:black; overflow:hidden\"><b> 28. Create a 2D array with 3 rows and 3 columns. Divide all elements by 5. </b></div>\n"
   ]
  },
  {
   "cell_type": "code",
   "execution_count": 28,
   "id": "9979a37c",
   "metadata": {
    "execution": {
     "iopub.execute_input": "2025-03-01T12:50:49.646950Z",
     "iopub.status.busy": "2025-03-01T12:50:49.646443Z",
     "iopub.status.idle": "2025-03-01T12:50:49.653092Z",
     "shell.execute_reply": "2025-03-01T12:50:49.652022Z"
    },
    "papermill": {
     "duration": 0.024596,
     "end_time": "2025-03-01T12:50:49.654866",
     "exception": false,
     "start_time": "2025-03-01T12:50:49.630270",
     "status": "completed"
    },
    "tags": []
   },
   "outputs": [
    {
     "data": {
      "text/plain": [
       "array([[2., 2., 2.],\n",
       "       [4., 4., 4.],\n",
       "       [6., 6., 6.]])"
      ]
     },
     "execution_count": 28,
     "metadata": {},
     "output_type": "execute_result"
    }
   ],
   "source": [
    "import numpy as np\n",
    "arr = np.array([[10,10,10],[20,20,20],[30,30,30]])\n",
    "ar = arr / 5\n",
    "ar"
   ]
  },
  {
   "cell_type": "markdown",
   "id": "db2a991a",
   "metadata": {
    "papermill": {
     "duration": 0.015087,
     "end_time": "2025-03-01T12:50:49.685369",
     "exception": false,
     "start_time": "2025-03-01T12:50:49.670282",
     "status": "completed"
    },
    "tags": []
   },
   "source": [
    "<a id=\"A\"></a>\n",
    "# <div style=\"text-align:center; border-radius:5px 10px; padding:5px; color:white; margin:0; font-size:70%; font-family:Pacifico; background-color:black; overflow:hidden\"><b> 29. Create a 2D array with 3 rows and 3 columns. Calculate the square root of all elements. </b></div>\n"
   ]
  },
  {
   "cell_type": "code",
   "execution_count": 29,
   "id": "39df44bb",
   "metadata": {
    "execution": {
     "iopub.execute_input": "2025-03-01T12:50:49.718093Z",
     "iopub.status.busy": "2025-03-01T12:50:49.717696Z",
     "iopub.status.idle": "2025-03-01T12:50:49.724710Z",
     "shell.execute_reply": "2025-03-01T12:50:49.723765Z"
    },
    "papermill": {
     "duration": 0.025432,
     "end_time": "2025-03-01T12:50:49.726252",
     "exception": false,
     "start_time": "2025-03-01T12:50:49.700820",
     "status": "completed"
    },
    "tags": []
   },
   "outputs": [
    {
     "data": {
      "text/plain": [
       "array([[2., 2., 2.],\n",
       "       [3., 3., 3.],\n",
       "       [4., 4., 4.]])"
      ]
     },
     "execution_count": 29,
     "metadata": {},
     "output_type": "execute_result"
    }
   ],
   "source": [
    "import numpy as np\n",
    "arr = np.array([[4,4,4],[9,9,9],[16,16,16]])\n",
    "np.sqrt(arr)"
   ]
  },
  {
   "cell_type": "markdown",
   "id": "56609e07",
   "metadata": {
    "papermill": {
     "duration": 0.015161,
     "end_time": "2025-03-01T12:50:49.757034",
     "exception": false,
     "start_time": "2025-03-01T12:50:49.741873",
     "status": "completed"
    },
    "tags": []
   },
   "source": [
    "<a id=\"A\"></a>\n",
    "# <div style=\"text-align:center; border-radius:5px 10px; padding:5px; color:white; margin:0; font-size:70%; font-family:Pacifico; background-color:black; overflow:hidden\"><b> 30. Create a 2D array with 3 rows and 3 columns. Calculate the natural logarithm of all elements. </b></div>\n"
   ]
  },
  {
   "cell_type": "code",
   "execution_count": 30,
   "id": "6d5e0930",
   "metadata": {
    "execution": {
     "iopub.execute_input": "2025-03-01T12:50:49.790007Z",
     "iopub.status.busy": "2025-03-01T12:50:49.789670Z",
     "iopub.status.idle": "2025-03-01T12:50:49.802216Z",
     "shell.execute_reply": "2025-03-01T12:50:49.801171Z"
    },
    "papermill": {
     "duration": 0.031033,
     "end_time": "2025-03-01T12:50:49.803840",
     "exception": false,
     "start_time": "2025-03-01T12:50:49.772807",
     "status": "completed"
    },
    "tags": []
   },
   "outputs": [
    {
     "data": {
      "text/plain": [
       "array([[1.38629436, 1.38629436, 1.38629436],\n",
       "       [2.19722458, 2.19722458, 2.19722458],\n",
       "       [2.77258872, 2.77258872, 2.77258872]])"
      ]
     },
     "execution_count": 30,
     "metadata": {},
     "output_type": "execute_result"
    }
   ],
   "source": [
    "import numpy as np\n",
    "arr = np.array([[4,4,4],[9,9,9],[16,16,16]])\n",
    "ar = np.log(arr)\n",
    "ar"
   ]
  },
  {
   "cell_type": "markdown",
   "id": "980d6940",
   "metadata": {
    "papermill": {
     "duration": 0.015478,
     "end_time": "2025-03-01T12:50:49.835326",
     "exception": false,
     "start_time": "2025-03-01T12:50:49.819848",
     "status": "completed"
    },
    "tags": []
   },
   "source": [
    "<a id=\"A\"></a>\n",
    "# <div style=\"text-align:center; border-radius:5px 10px; padding:5px; color:white; margin:0; font-size:70%; font-family:Pacifico; background-color:black; overflow:hidden\"><b> 31. Create a 2D array with 3 rows and 3 columns. Calculate the exponential of all elements. </b></div>\n"
   ]
  },
  {
   "cell_type": "code",
   "execution_count": 31,
   "id": "1f3e237f",
   "metadata": {
    "execution": {
     "iopub.execute_input": "2025-03-01T12:50:49.868036Z",
     "iopub.status.busy": "2025-03-01T12:50:49.867650Z",
     "iopub.status.idle": "2025-03-01T12:50:49.874357Z",
     "shell.execute_reply": "2025-03-01T12:50:49.873400Z"
    },
    "papermill": {
     "duration": 0.025199,
     "end_time": "2025-03-01T12:50:49.876138",
     "exception": false,
     "start_time": "2025-03-01T12:50:49.850939",
     "status": "completed"
    },
    "tags": []
   },
   "outputs": [
    {
     "data": {
      "text/plain": [
       "array([[5.45981500e+01, 5.45981500e+01, 5.45981500e+01],\n",
       "       [8.10308393e+03, 8.10308393e+03, 8.10308393e+03],\n",
       "       [8.88611052e+06, 8.88611052e+06, 8.88611052e+06]])"
      ]
     },
     "execution_count": 31,
     "metadata": {},
     "output_type": "execute_result"
    }
   ],
   "source": [
    "import numpy as np\n",
    "arr = np.array([[4,4,4],[9,9,9],[16,16,16]])\n",
    "ar = np.exp(arr)\n",
    "ar"
   ]
  },
  {
   "cell_type": "markdown",
   "id": "815829da",
   "metadata": {
    "papermill": {
     "duration": 0.015375,
     "end_time": "2025-03-01T12:50:49.908007",
     "exception": false,
     "start_time": "2025-03-01T12:50:49.892632",
     "status": "completed"
    },
    "tags": []
   },
   "source": [
    "<a id=\"A\"></a>\n",
    "# <div style=\"text-align:center; border-radius:5px 10px; padding:5px; color:white; margin:0; font-size:70%; font-family:Pacifico; background-color:black; overflow:hidden\"><b> 32. Create a 2D array with 3 rows and 3 columns. Replace all diagonal elements with 1. </b></div>\n"
   ]
  },
  {
   "cell_type": "code",
   "execution_count": 32,
   "id": "853e8691",
   "metadata": {
    "execution": {
     "iopub.execute_input": "2025-03-01T12:50:49.942907Z",
     "iopub.status.busy": "2025-03-01T12:50:49.942563Z",
     "iopub.status.idle": "2025-03-01T12:50:49.949283Z",
     "shell.execute_reply": "2025-03-01T12:50:49.948185Z"
    },
    "papermill": {
     "duration": 0.025568,
     "end_time": "2025-03-01T12:50:49.950974",
     "exception": false,
     "start_time": "2025-03-01T12:50:49.925406",
     "status": "completed"
    },
    "tags": []
   },
   "outputs": [
    {
     "data": {
      "text/plain": [
       "array([[ 1,  4,  4],\n",
       "       [ 9,  1,  9],\n",
       "       [16, 16,  1]])"
      ]
     },
     "execution_count": 32,
     "metadata": {},
     "output_type": "execute_result"
    }
   ],
   "source": [
    "import numpy as np\n",
    "arr = np.array([[4,4,4], [9,9,9], [16,16,16]])\n",
    "np.fill_diagonal(arr, 1)\n",
    "arr  \n"
   ]
  },
  {
   "cell_type": "markdown",
   "id": "a745093a",
   "metadata": {
    "papermill": {
     "duration": 0.016362,
     "end_time": "2025-03-01T12:50:49.984132",
     "exception": false,
     "start_time": "2025-03-01T12:50:49.967770",
     "status": "completed"
    },
    "tags": []
   },
   "source": [
    "<a id=\"A\"></a>\n",
    "# <div style=\"text-align:center; border-radius:5px 10px; padding:5px; color:white; margin:0; font-size:70%; font-family:Pacifico; background-color:black; overflow:hidden\"><b> 33. Create a 2D array with 3 rows and 3 columns. Calculate the transpose of the array. </b></div>\n"
   ]
  },
  {
   "cell_type": "code",
   "execution_count": 33,
   "id": "3f557c18",
   "metadata": {
    "execution": {
     "iopub.execute_input": "2025-03-01T12:50:50.017408Z",
     "iopub.status.busy": "2025-03-01T12:50:50.016998Z",
     "iopub.status.idle": "2025-03-01T12:50:50.023663Z",
     "shell.execute_reply": "2025-03-01T12:50:50.022528Z"
    },
    "papermill": {
     "duration": 0.025439,
     "end_time": "2025-03-01T12:50:50.025390",
     "exception": false,
     "start_time": "2025-03-01T12:50:49.999951",
     "status": "completed"
    },
    "tags": []
   },
   "outputs": [
    {
     "data": {
      "text/plain": [
       "array([[ 4,  9, 16],\n",
       "       [ 4,  9, 16],\n",
       "       [ 4,  9, 16]])"
      ]
     },
     "execution_count": 33,
     "metadata": {},
     "output_type": "execute_result"
    }
   ],
   "source": [
    "import numpy as np\n",
    "arr = np.array([[4,4,4], [9,9,9], [16,16,16]])\n",
    "arr.T"
   ]
  },
  {
   "cell_type": "markdown",
   "id": "6a4f35fe",
   "metadata": {
    "papermill": {
     "duration": 0.016856,
     "end_time": "2025-03-01T12:50:50.058798",
     "exception": false,
     "start_time": "2025-03-01T12:50:50.041942",
     "status": "completed"
    },
    "tags": []
   },
   "source": [
    "<a id=\"A\"></a>\n",
    "# <div style=\"text-align:center; border-radius:5px 10px; padding:5px; color:white; margin:0; font-size:70%; font-family:Pacifico; background-color:black; overflow:hidden\"><b> 34. Create a 2D array with 3 rows and 3 columns. Calculate the determinant of the array. </b></div>\n"
   ]
  },
  {
   "cell_type": "code",
   "execution_count": 34,
   "id": "aec6249d",
   "metadata": {
    "execution": {
     "iopub.execute_input": "2025-03-01T12:50:50.092548Z",
     "iopub.status.busy": "2025-03-01T12:50:50.092119Z",
     "iopub.status.idle": "2025-03-01T12:50:50.115637Z",
     "shell.execute_reply": "2025-03-01T12:50:50.114536Z"
    },
    "papermill": {
     "duration": 0.042409,
     "end_time": "2025-03-01T12:50:50.117338",
     "exception": false,
     "start_time": "2025-03-01T12:50:50.074929",
     "status": "completed"
    },
    "tags": []
   },
   "outputs": [
    {
     "name": "stdout",
     "output_type": "stream",
     "text": [
      "[[9 2 2]\n",
      " [7 2 9]\n",
      " [1 3 1]]\n"
     ]
    },
    {
     "data": {
      "text/plain": [
       "-183.00000000000009"
      ]
     },
     "execution_count": 34,
     "metadata": {},
     "output_type": "execute_result"
    }
   ],
   "source": [
    "import numpy as np\n",
    "arr = np.random.randint(1,10,(3,3))\n",
    "print(arr)\n",
    "np.linalg.det(arr)"
   ]
  },
  {
   "cell_type": "markdown",
   "id": "450d9117",
   "metadata": {
    "papermill": {
     "duration": 0.015767,
     "end_time": "2025-03-01T12:50:50.149335",
     "exception": false,
     "start_time": "2025-03-01T12:50:50.133568",
     "status": "completed"
    },
    "tags": []
   },
   "source": [
    "<a id=\"A\"></a>\n",
    "# <div style=\"text-align:center; border-radius:5px 10px; padding:5px; color:white; margin:0; font-size:70%; font-family:Pacifico; background-color:black; overflow:hidden\"><b> 35. Create a 2D array with 3 rows and 3 columns. Calculate the inverse of the array. </b></div>\n"
   ]
  },
  {
   "cell_type": "code",
   "execution_count": 35,
   "id": "ad2fd9ac",
   "metadata": {
    "execution": {
     "iopub.execute_input": "2025-03-01T12:50:50.182388Z",
     "iopub.status.busy": "2025-03-01T12:50:50.181996Z",
     "iopub.status.idle": "2025-03-01T12:50:50.194124Z",
     "shell.execute_reply": "2025-03-01T12:50:50.193012Z"
    },
    "papermill": {
     "duration": 0.030842,
     "end_time": "2025-03-01T12:50:50.195993",
     "exception": false,
     "start_time": "2025-03-01T12:50:50.165151",
     "status": "completed"
    },
    "tags": []
   },
   "outputs": [
    {
     "data": {
      "text/plain": [
       "array([[-0.03846154,  0.13461538, -0.01923077],\n",
       "       [ 0.25      , -0.125     , -0.125     ],\n",
       "       [-0.40384615,  0.16346154,  0.54807692]])"
      ]
     },
     "execution_count": 35,
     "metadata": {},
     "output_type": "execute_result"
    }
   ],
   "source": [
    "import numpy as np\n",
    "arr = np.random.randint(1,10,(3,3))\n",
    "np.linalg.inv(arr)"
   ]
  },
  {
   "cell_type": "markdown",
   "id": "84f05ab3",
   "metadata": {
    "papermill": {
     "duration": 0.015759,
     "end_time": "2025-03-01T12:50:50.228027",
     "exception": false,
     "start_time": "2025-03-01T12:50:50.212268",
     "status": "completed"
    },
    "tags": []
   },
   "source": [
    "<a id=\"A\"></a>\n",
    "# <div style=\"text-align:center; border-radius:5px 10px; padding:5px; color:white; margin:0; font-size:70%; font-family:Pacifico; background-color:black; overflow:hidden\"><b> 36. Create a 2D array with 3 rows and 3 columns. Calculate the rank of the array. </b></div>\n"
   ]
  },
  {
   "cell_type": "code",
   "execution_count": 36,
   "id": "a731ae71",
   "metadata": {
    "execution": {
     "iopub.execute_input": "2025-03-01T12:50:50.261464Z",
     "iopub.status.busy": "2025-03-01T12:50:50.261040Z",
     "iopub.status.idle": "2025-03-01T12:50:50.286870Z",
     "shell.execute_reply": "2025-03-01T12:50:50.285800Z"
    },
    "papermill": {
     "duration": 0.044318,
     "end_time": "2025-03-01T12:50:50.288408",
     "exception": false,
     "start_time": "2025-03-01T12:50:50.244090",
     "status": "completed"
    },
    "tags": []
   },
   "outputs": [
    {
     "data": {
      "text/plain": [
       "3"
      ]
     },
     "execution_count": 36,
     "metadata": {},
     "output_type": "execute_result"
    }
   ],
   "source": [
    "import numpy as np\n",
    "arr = np.random.randint(1,10,(3,3))\n",
    "np.linalg.matrix_rank(arr)"
   ]
  },
  {
   "cell_type": "markdown",
   "id": "ae2140c5",
   "metadata": {
    "papermill": {
     "duration": 0.016821,
     "end_time": "2025-03-01T12:50:50.321696",
     "exception": false,
     "start_time": "2025-03-01T12:50:50.304875",
     "status": "completed"
    },
    "tags": []
   },
   "source": [
    "<a id=\"A\"></a>\n",
    "# <div style=\"text-align:center; border-radius:15px 30px; padding:10px; color:white; margin:0; font-size:100%; font-family:Pacifico; background-color:red; overflow:hidden\"><b> Advanced Problems </b></div>\n",
    "\n"
   ]
  },
  {
   "cell_type": "markdown",
   "id": "2bddfd65",
   "metadata": {
    "papermill": {
     "duration": 0.015964,
     "end_time": "2025-03-01T12:50:50.354458",
     "exception": false,
     "start_time": "2025-03-01T12:50:50.338494",
     "status": "completed"
    },
    "tags": []
   },
   "source": [
    "<a id=\"A\"></a>\n",
    "# <div style=\"text-align:center; border-radius:5px 10px; padding:5px; color:white; margin:0; font-size:70%; font-family:Pacifico; background-color:black; overflow:hidden\"><b> 37. Create a 3D array with 2 layers, 3 rows, and 4 columns. </b></div>\n"
   ]
  },
  {
   "cell_type": "code",
   "execution_count": 37,
   "id": "f59eb485",
   "metadata": {
    "execution": {
     "iopub.execute_input": "2025-03-01T12:50:50.388134Z",
     "iopub.status.busy": "2025-03-01T12:50:50.387751Z",
     "iopub.status.idle": "2025-03-01T12:50:50.394102Z",
     "shell.execute_reply": "2025-03-01T12:50:50.393087Z"
    },
    "papermill": {
     "duration": 0.025077,
     "end_time": "2025-03-01T12:50:50.395874",
     "exception": false,
     "start_time": "2025-03-01T12:50:50.370797",
     "status": "completed"
    },
    "tags": []
   },
   "outputs": [
    {
     "data": {
      "text/plain": [
       "array([[[9, 7, 1, 9],\n",
       "        [6, 4, 3, 3],\n",
       "        [3, 9, 1, 8]],\n",
       "\n",
       "       [[9, 9, 4, 1],\n",
       "        [8, 1, 3, 4],\n",
       "        [7, 8, 6, 5]]])"
      ]
     },
     "execution_count": 37,
     "metadata": {},
     "output_type": "execute_result"
    }
   ],
   "source": [
    "import numpy as np\n",
    "arr = np.random.randint(1,10, (2,3,4))\n",
    "arr"
   ]
  },
  {
   "cell_type": "markdown",
   "id": "f525529a",
   "metadata": {
    "papermill": {
     "duration": 0.016752,
     "end_time": "2025-03-01T12:50:50.429935",
     "exception": false,
     "start_time": "2025-03-01T12:50:50.413183",
     "status": "completed"
    },
    "tags": []
   },
   "source": [
    "<a id=\"A\"></a>\n",
    "# <div style=\"text-align:center; border-radius:5px 10px; padding:5px; color:white; margin:0; font-size:70%; font-family:Pacifico; background-color:black; overflow:hidden\"><b> 38. Create a 3D array with 3 layers, 2 rows, and 2 columns. Calculate the sum of all elements. </b></div>\n"
   ]
  },
  {
   "cell_type": "code",
   "execution_count": 38,
   "id": "75e8cc43",
   "metadata": {
    "execution": {
     "iopub.execute_input": "2025-03-01T12:50:50.464374Z",
     "iopub.status.busy": "2025-03-01T12:50:50.463988Z",
     "iopub.status.idle": "2025-03-01T12:50:50.470296Z",
     "shell.execute_reply": "2025-03-01T12:50:50.469212Z"
    },
    "papermill": {
     "duration": 0.025484,
     "end_time": "2025-03-01T12:50:50.472034",
     "exception": false,
     "start_time": "2025-03-01T12:50:50.446550",
     "status": "completed"
    },
    "tags": []
   },
   "outputs": [
    {
     "data": {
      "text/plain": [
       "69"
      ]
     },
     "execution_count": 38,
     "metadata": {},
     "output_type": "execute_result"
    }
   ],
   "source": [
    "import numpy as np\n",
    "arr = np.random.randint(1,10, (3,2,2))\n",
    "arr.sum()"
   ]
  },
  {
   "cell_type": "markdown",
   "id": "b4f82993",
   "metadata": {
    "papermill": {
     "duration": 0.017764,
     "end_time": "2025-03-01T12:50:50.506442",
     "exception": false,
     "start_time": "2025-03-01T12:50:50.488678",
     "status": "completed"
    },
    "tags": []
   },
   "source": [
    "<a id=\"A\"></a>\n",
    "# <div style=\"text-align:center; border-radius:5px 10px; padding:5px; color:white; margin:0; font-size:70%; font-family:Pacifico; background-color:black; overflow:hidden\"><b> 39. Create a 3D array with 3 layers, 2 rows, and 2 columns. Calculate the mean of all elements. </b></div>\n"
   ]
  },
  {
   "cell_type": "code",
   "execution_count": 39,
   "id": "976c9bd8",
   "metadata": {
    "execution": {
     "iopub.execute_input": "2025-03-01T12:50:50.542512Z",
     "iopub.status.busy": "2025-03-01T12:50:50.542079Z",
     "iopub.status.idle": "2025-03-01T12:50:50.548722Z",
     "shell.execute_reply": "2025-03-01T12:50:50.547673Z"
    },
    "papermill": {
     "duration": 0.026127,
     "end_time": "2025-03-01T12:50:50.550475",
     "exception": false,
     "start_time": "2025-03-01T12:50:50.524348",
     "status": "completed"
    },
    "tags": []
   },
   "outputs": [
    {
     "data": {
      "text/plain": [
       "5.916666666666667"
      ]
     },
     "execution_count": 39,
     "metadata": {},
     "output_type": "execute_result"
    }
   ],
   "source": [
    "import numpy as np\n",
    "arr = np.random.randint(1,10, (3,2,2))\n",
    "arr.mean()"
   ]
  },
  {
   "cell_type": "markdown",
   "id": "bcc321b9",
   "metadata": {
    "papermill": {
     "duration": 0.016046,
     "end_time": "2025-03-01T12:50:50.582977",
     "exception": false,
     "start_time": "2025-03-01T12:50:50.566931",
     "status": "completed"
    },
    "tags": []
   },
   "source": [
    "<a id=\"A\"></a>\n",
    "# <div style=\"text-align:center; border-radius:5px 10px; padding:5px; color:white; margin:0; font-size:70%; font-family:Pacifico; background-color:black; overflow:hidden\"><b> 40. Create a 3D array with 3 layers, 2 rows, and 2 columns. Find the maximum value in the array. </b></div>\n"
   ]
  },
  {
   "cell_type": "code",
   "execution_count": 40,
   "id": "5326a497",
   "metadata": {
    "execution": {
     "iopub.execute_input": "2025-03-01T12:50:50.616868Z",
     "iopub.status.busy": "2025-03-01T12:50:50.616530Z",
     "iopub.status.idle": "2025-03-01T12:50:50.622909Z",
     "shell.execute_reply": "2025-03-01T12:50:50.621860Z"
    },
    "papermill": {
     "duration": 0.025506,
     "end_time": "2025-03-01T12:50:50.624761",
     "exception": false,
     "start_time": "2025-03-01T12:50:50.599255",
     "status": "completed"
    },
    "tags": []
   },
   "outputs": [
    {
     "data": {
      "text/plain": [
       "9"
      ]
     },
     "execution_count": 40,
     "metadata": {},
     "output_type": "execute_result"
    }
   ],
   "source": [
    "import numpy as np\n",
    "arr = np.random.randint(1,10, (3,2,2))\n",
    "arr.max()"
   ]
  },
  {
   "cell_type": "markdown",
   "id": "b3b2f4c6",
   "metadata": {
    "papermill": {
     "duration": 0.016609,
     "end_time": "2025-03-01T12:50:50.658428",
     "exception": false,
     "start_time": "2025-03-01T12:50:50.641819",
     "status": "completed"
    },
    "tags": []
   },
   "source": [
    "<div style=\"font-size: 30px; color: white; text-align: center; margin-top: 20px; padding: 10px; border: 5px solid white; background-color: red; border-radius: 10px;\">\n",
    "    <p style=\"font-weight: bold; margin: 0; display: inline-block;\">Notebook Created by Waqar Ali</p>\n",
    "    <br>\n",
    "    <p style=\"font-weight: bold; margin: 0; display: inline-block;\">Created on: March 1, 2025</p>\n",
    "</div>"
   ]
  },
  {
   "cell_type": "markdown",
   "id": "0462eb6d",
   "metadata": {
    "papermill": {
     "duration": 0.016386,
     "end_time": "2025-03-01T12:50:50.691277",
     "exception": false,
     "start_time": "2025-03-01T12:50:50.674891",
     "status": "completed"
    },
    "tags": []
   },
   "source": [
    "\n",
    "<div style=\"font-size: 50px; font-weight: bold; color: white; text-transform: uppercase; background-color: red; border: 5px solid white; padding: 5px 10px; display: inline-block; border-radius: 10px; width: 750px; text-align: center; margin: 0 auto; display: block;\">\n",
    "    Thank You   \n",
    "</div>"
   ]
  }
 ],
 "metadata": {
  "kaggle": {
   "accelerator": "none",
   "dataSources": [],
   "dockerImageVersionId": 30918,
   "isGpuEnabled": false,
   "isInternetEnabled": true,
   "language": "python",
   "sourceType": "notebook"
  },
  "kernelspec": {
   "display_name": "Python 3",
   "language": "python",
   "name": "python3"
  },
  "language_info": {
   "codemirror_mode": {
    "name": "ipython",
    "version": 3
   },
   "file_extension": ".py",
   "mimetype": "text/x-python",
   "name": "python",
   "nbconvert_exporter": "python",
   "pygments_lexer": "ipython3",
   "version": "3.10.12"
  },
  "papermill": {
   "default_parameters": {},
   "duration": 6.539849,
   "end_time": "2025-03-01T12:50:51.229491",
   "environment_variables": {},
   "exception": null,
   "input_path": "__notebook__.ipynb",
   "output_path": "__notebook__.ipynb",
   "parameters": {},
   "start_time": "2025-03-01T12:50:44.689642",
   "version": "2.6.0"
  }
 },
 "nbformat": 4,
 "nbformat_minor": 5
}
